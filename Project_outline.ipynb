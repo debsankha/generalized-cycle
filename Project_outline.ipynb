{
 "cells": [
  {
   "cell_type": "markdown",
   "metadata": {},
   "source": [
    "### Cycle flow decay in arbitrary manifolds\n",
    "Our previous work has shown that cycleflow  induces by topologically perturbing a flow network decays as a power law for graphs embedded on Euclidean plane. This work will focus on studying if the decay characteristics differ for graphs embedded on other manifolds. \n",
    "\n",
    "## Mathematical formalism\n",
    "\n",
    "**Flow network:** A flow network is a *graph* through whose vertices certain *input* currents are injected, and those currents are distrbuted through the edges in th form of *flows* according to a *flow model*. \n",
    "\n",
    "**_Definition_:**\n",
    "Let a flow network be defined as a tuple $(G, \\vec{I}, f)$, where :\n",
    "\n",
    "-  $G$ is a graph with vertex set $V$ and edge set $E$. \n",
    "-  $I \\in R^{|V|}$ is a vector specifying **input currents** at each vertex $v \\in V$. \n",
    "-  $f$ is a flow model specifying flows $\\phi$ across each edge $e\\in E$:\n",
    "$$f: G\\otimes\\vec{I} \\mapsto \\vec{\\phi} \\in R^{E}$$\n",
    "The flows must obey the continuity equation at each node:\n",
    "$$\\sum_{(u,v)\\in E} K_{uv} (\\phi_u -\\phi_v) = I_v$$\n",
    "\n",
    "**Cycleflows:** When an edge of a flow network is perturbed infinitesimally, the flows along all edges must change. Due to the continuity equation that still must remain valid, these variations in flows must take teh form of cycle flows along each loop.  \n",
    "\n",
    "**_Definition_:**\n",
    "Given a Flow network $FN(G, \\vec{I}, f)$, and an edge to perturn $e_0\\in E$; the cycleflows $F_c$ is a mapping each face of $G$ to a real number\n",
    "$$F_c: FN(G, \\vec{I}, f)\\otimes e_0 \\mapsto f_c\\in R^{\\gamma},$$ where $\\gamma$ is the cardinality of the set of faces. The mapping is defined in the following way:\n",
    "\n",
    "Let the perturbed graph be denoted as $G'$. \n",
    "\n",
    "Let $\\vec{\\phi_0}=f(G, I)$ and $\\vec{\\phi'}=f(G', I)$. "
   ]
  },
  {
   "cell_type": "markdown",
   "metadata": {
    "collapsed": true
   },
   "source": [
    "## Bibkiography:\n",
    "1.  [Bridson's fast Poisson disk sampling](http://www.cs.ubc.ca/~rbridson/docs/bridson-siggraph07-poissondisk.pdf)\n",
    "2.  [Boundary sampling](http://www.cs.virginia.edu/~gfx/pubs/antimony/antimony.pdf)"
   ]
  },
  {
   "cell_type": "code",
   "execution_count": null,
   "metadata": {
    "collapsed": true
   },
   "outputs": [],
   "source": []
  }
 ],
 "metadata": {
  "kernelspec": {
   "display_name": "Python 3",
   "language": "python",
   "name": "python3"
  },
  "language_info": {
   "codemirror_mode": {
    "name": "ipython",
    "version": 3
   },
   "file_extension": ".py",
   "mimetype": "text/x-python",
   "name": "python",
   "nbconvert_exporter": "python",
   "pygments_lexer": "ipython3",
   "version": "3.4.0"
  }
 },
 "nbformat": 4,
 "nbformat_minor": 0
}
